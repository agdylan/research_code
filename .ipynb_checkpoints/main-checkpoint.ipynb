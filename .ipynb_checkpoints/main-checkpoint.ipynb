{
 "cells": [
  {
   "cell_type": "code",
   "execution_count": 1,
   "id": "5b1d8cf9-d0df-40bd-84e0-a7a260f5342a",
   "metadata": {},
   "outputs": [
    {
     "name": "stdout",
     "output_type": "stream",
     "text": [
      "Defaulting to user installation because normal site-packages is not writeable\n",
      "Requirement already satisfied: icon_registration in /nas/longleaf/home/agdylan/.local/lib/python3.9/site-packages (1.1.4)\n",
      "Requirement already satisfied: torch in /nas/longleaf/home/agdylan/.local/lib/python3.9/site-packages (from icon_registration) (2.2.2)\n",
      "Requirement already satisfied: footsteps>=0.1.6 in /nas/longleaf/home/agdylan/.local/lib/python3.9/site-packages (from icon_registration) (0.1.9)\n",
      "Requirement already satisfied: tqdm in /nas/longleaf/rhel8/apps/anaconda/2021.11.ood/lib/python3.9/site-packages (from icon_registration) (4.62.3)\n",
      "Requirement already satisfied: girder-client==3.1.8 in /nas/longleaf/home/agdylan/.local/lib/python3.9/site-packages (from icon_registration) (3.1.8)\n",
      "Requirement already satisfied: tensorboard in /nas/longleaf/home/agdylan/.local/lib/python3.9/site-packages (from icon_registration) (2.16.2)\n",
      "Requirement already satisfied: itk>=5.3a in /nas/longleaf/home/agdylan/.local/lib/python3.9/site-packages (from icon_registration) (5.4rc3)\n",
      "Requirement already satisfied: torchvision in /nas/longleaf/home/agdylan/.local/lib/python3.9/site-packages (from icon_registration) (0.17.2)\n",
      "Requirement already satisfied: matplotlib in /nas/longleaf/rhel8/apps/anaconda/2021.11.ood/lib/python3.9/site-packages (from icon_registration) (3.4.3)\n",
      "Requirement already satisfied: click>=6.7 in /nas/longleaf/rhel8/apps/anaconda/2021.11.ood/lib/python3.9/site-packages (from girder-client==3.1.8->icon_registration) (8.0.3)\n",
      "Requirement already satisfied: requests-toolbelt in /nas/longleaf/home/agdylan/.local/lib/python3.9/site-packages (from girder-client==3.1.8->icon_registration) (1.0.0)\n",
      "Requirement already satisfied: requests>=2.4.2 in /nas/longleaf/rhel8/apps/anaconda/2021.11.ood/lib/python3.9/site-packages (from girder-client==3.1.8->icon_registration) (2.26.0)\n",
      "Requirement already satisfied: diskcache in /nas/longleaf/home/agdylan/.local/lib/python3.9/site-packages (from girder-client==3.1.8->icon_registration) (5.6.3)\n",
      "Requirement already satisfied: itk-registration==5.4rc3 in /nas/longleaf/home/agdylan/.local/lib/python3.9/site-packages (from itk>=5.3a->icon_registration) (5.4rc3)\n",
      "Requirement already satisfied: itk-core==5.4rc3 in /nas/longleaf/home/agdylan/.local/lib/python3.9/site-packages (from itk>=5.3a->icon_registration) (5.4rc3)\n",
      "Requirement already satisfied: itk-numerics==5.4rc3 in /nas/longleaf/home/agdylan/.local/lib/python3.9/site-packages (from itk>=5.3a->icon_registration) (5.4rc3)\n",
      "Requirement already satisfied: itk-io==5.4rc3 in /nas/longleaf/home/agdylan/.local/lib/python3.9/site-packages (from itk>=5.3a->icon_registration) (5.4rc3)\n",
      "Requirement already satisfied: numpy in /nas/longleaf/rhel8/apps/anaconda/2021.11.ood/lib/python3.9/site-packages (from itk>=5.3a->icon_registration) (1.20.3)\n",
      "Requirement already satisfied: itk-filtering==5.4rc3 in /nas/longleaf/home/agdylan/.local/lib/python3.9/site-packages (from itk>=5.3a->icon_registration) (5.4rc3)\n",
      "Requirement already satisfied: itk-segmentation==5.4rc3 in /nas/longleaf/home/agdylan/.local/lib/python3.9/site-packages (from itk>=5.3a->icon_registration) (5.4rc3)\n",
      "Requirement already satisfied: charset-normalizer~=2.0.0 in /nas/longleaf/rhel8/apps/anaconda/2021.11.ood/lib/python3.9/site-packages (from requests>=2.4.2->girder-client==3.1.8->icon_registration) (2.0.4)\n",
      "Requirement already satisfied: idna<4,>=2.5 in /nas/longleaf/rhel8/apps/anaconda/2021.11.ood/lib/python3.9/site-packages (from requests>=2.4.2->girder-client==3.1.8->icon_registration) (3.2)\n",
      "Requirement already satisfied: certifi>=2017.4.17 in /nas/longleaf/rhel8/apps/anaconda/2021.11.ood/lib/python3.9/site-packages (from requests>=2.4.2->girder-client==3.1.8->icon_registration) (2021.10.8)\n",
      "Requirement already satisfied: urllib3<1.27,>=1.21.1 in /nas/longleaf/rhel8/apps/anaconda/2021.11.ood/lib/python3.9/site-packages (from requests>=2.4.2->girder-client==3.1.8->icon_registration) (1.26.7)\n",
      "Requirement already satisfied: pyparsing>=2.2.1 in /nas/longleaf/rhel8/apps/anaconda/2021.11.ood/lib/python3.9/site-packages (from matplotlib->icon_registration) (3.0.4)\n",
      "Requirement already satisfied: python-dateutil>=2.7 in /nas/longleaf/rhel8/apps/anaconda/2021.11.ood/lib/python3.9/site-packages (from matplotlib->icon_registration) (2.8.2)\n",
      "Requirement already satisfied: kiwisolver>=1.0.1 in /nas/longleaf/rhel8/apps/anaconda/2021.11.ood/lib/python3.9/site-packages (from matplotlib->icon_registration) (1.3.1)\n",
      "Requirement already satisfied: pillow>=6.2.0 in /nas/longleaf/rhel8/apps/anaconda/2021.11.ood/lib/python3.9/site-packages (from matplotlib->icon_registration) (8.4.0)\n",
      "Requirement already satisfied: cycler>=0.10 in /nas/longleaf/rhel8/apps/anaconda/2021.11.ood/lib/python3.9/site-packages (from matplotlib->icon_registration) (0.10.0)\n",
      "Requirement already satisfied: six in /nas/longleaf/rhel8/apps/anaconda/2021.11.ood/lib/python3.9/site-packages (from cycler>=0.10->matplotlib->icon_registration) (1.16.0)\n",
      "Requirement already satisfied: markdown>=2.6.8 in /nas/longleaf/home/agdylan/.local/lib/python3.9/site-packages (from tensorboard->icon_registration) (3.6)\n",
      "Requirement already satisfied: werkzeug>=1.0.1 in /nas/longleaf/rhel8/apps/anaconda/2021.11.ood/lib/python3.9/site-packages (from tensorboard->icon_registration) (2.0.2)\n",
      "Requirement already satisfied: tensorboard-data-server<0.8.0,>=0.7.0 in /nas/longleaf/home/agdylan/.local/lib/python3.9/site-packages (from tensorboard->icon_registration) (0.7.2)\n",
      "Requirement already satisfied: absl-py>=0.4 in /nas/longleaf/home/agdylan/.local/lib/python3.9/site-packages (from tensorboard->icon_registration) (2.1.0)\n",
      "Requirement already satisfied: protobuf!=4.24.0,>=3.19.6 in /nas/longleaf/home/agdylan/.local/lib/python3.9/site-packages (from tensorboard->icon_registration) (5.26.1)\n",
      "Requirement already satisfied: grpcio>=1.48.2 in /nas/longleaf/home/agdylan/.local/lib/python3.9/site-packages (from tensorboard->icon_registration) (1.62.1)\n",
      "Requirement already satisfied: setuptools>=41.0.0 in /nas/longleaf/rhel8/apps/anaconda/2021.11.ood/lib/python3.9/site-packages (from tensorboard->icon_registration) (58.0.4)\n",
      "Requirement already satisfied: importlib-metadata>=4.4 in /nas/longleaf/rhel8/apps/anaconda/2021.11.ood/lib/python3.9/site-packages (from markdown>=2.6.8->tensorboard->icon_registration) (4.8.1)\n",
      "Requirement already satisfied: zipp>=0.5 in /nas/longleaf/rhel8/apps/anaconda/2021.11.ood/lib/python3.9/site-packages (from importlib-metadata>=4.4->markdown>=2.6.8->tensorboard->icon_registration) (3.6.0)\n",
      "Requirement already satisfied: fsspec in /nas/longleaf/rhel8/apps/anaconda/2021.11.ood/lib/python3.9/site-packages (from torch->icon_registration) (2021.8.1)\n",
      "Requirement already satisfied: nvidia-cuda-nvrtc-cu12==12.1.105 in /nas/longleaf/home/agdylan/.local/lib/python3.9/site-packages (from torch->icon_registration) (12.1.105)\n",
      "Requirement already satisfied: typing-extensions>=4.8.0 in /nas/longleaf/home/agdylan/.local/lib/python3.9/site-packages (from torch->icon_registration) (4.11.0)\n",
      "Requirement already satisfied: nvidia-cuda-runtime-cu12==12.1.105 in /nas/longleaf/home/agdylan/.local/lib/python3.9/site-packages (from torch->icon_registration) (12.1.105)\n",
      "Requirement already satisfied: nvidia-cufft-cu12==11.0.2.54 in /nas/longleaf/home/agdylan/.local/lib/python3.9/site-packages (from torch->icon_registration) (11.0.2.54)\n",
      "Requirement already satisfied: nvidia-cusolver-cu12==11.4.5.107 in /nas/longleaf/home/agdylan/.local/lib/python3.9/site-packages (from torch->icon_registration) (11.4.5.107)\n",
      "Requirement already satisfied: nvidia-cusparse-cu12==12.1.0.106 in /nas/longleaf/home/agdylan/.local/lib/python3.9/site-packages (from torch->icon_registration) (12.1.0.106)\n",
      "Requirement already satisfied: jinja2 in /nas/longleaf/rhel8/apps/anaconda/2021.11.ood/lib/python3.9/site-packages (from torch->icon_registration) (2.11.3)\n",
      "Requirement already satisfied: nvidia-nccl-cu12==2.19.3 in /nas/longleaf/home/agdylan/.local/lib/python3.9/site-packages (from torch->icon_registration) (2.19.3)\n",
      "Requirement already satisfied: nvidia-cublas-cu12==12.1.3.1 in /nas/longleaf/home/agdylan/.local/lib/python3.9/site-packages (from torch->icon_registration) (12.1.3.1)\n",
      "Requirement already satisfied: sympy in /nas/longleaf/rhel8/apps/anaconda/2021.11.ood/lib/python3.9/site-packages (from torch->icon_registration) (1.9)\n",
      "Requirement already satisfied: nvidia-cudnn-cu12==8.9.2.26 in /nas/longleaf/home/agdylan/.local/lib/python3.9/site-packages (from torch->icon_registration) (8.9.2.26)\n",
      "Requirement already satisfied: networkx in /nas/longleaf/rhel8/apps/anaconda/2021.11.ood/lib/python3.9/site-packages (from torch->icon_registration) (2.6.3)\n",
      "Requirement already satisfied: nvidia-curand-cu12==10.3.2.106 in /nas/longleaf/home/agdylan/.local/lib/python3.9/site-packages (from torch->icon_registration) (10.3.2.106)\n",
      "Requirement already satisfied: triton==2.2.0 in /nas/longleaf/home/agdylan/.local/lib/python3.9/site-packages (from torch->icon_registration) (2.2.0)\n",
      "Requirement already satisfied: filelock in /nas/longleaf/rhel8/apps/anaconda/2021.11.ood/lib/python3.9/site-packages (from torch->icon_registration) (3.3.1)\n",
      "Requirement already satisfied: nvidia-cuda-cupti-cu12==12.1.105 in /nas/longleaf/home/agdylan/.local/lib/python3.9/site-packages (from torch->icon_registration) (12.1.105)\n",
      "Requirement already satisfied: nvidia-nvtx-cu12==12.1.105 in /nas/longleaf/home/agdylan/.local/lib/python3.9/site-packages (from torch->icon_registration) (12.1.105)\n",
      "Requirement already satisfied: nvidia-nvjitlink-cu12 in /nas/longleaf/home/agdylan/.local/lib/python3.9/site-packages (from nvidia-cusolver-cu12==11.4.5.107->torch->icon_registration) (12.4.127)\n",
      "Requirement already satisfied: MarkupSafe>=0.23 in /nas/longleaf/rhel8/apps/anaconda/2021.11.ood/lib/python3.9/site-packages (from jinja2->torch->icon_registration) (1.1.1)\n",
      "Requirement already satisfied: mpmath>=0.19 in /nas/longleaf/rhel8/apps/anaconda/2021.11.ood/lib/python3.9/site-packages (from sympy->torch->icon_registration) (1.2.1)\n"
     ]
    }
   ],
   "source": [
    "! pip install icon_registration"
   ]
  },
  {
   "cell_type": "code",
   "execution_count": 2,
   "id": "a63bdb1b-3bbe-4881-aec3-182fa098151e",
   "metadata": {},
   "outputs": [],
   "source": [
    "import icon_registration as icon\n",
    "import icon_registration.data\n",
    "import icon_registration.networks as networks\n",
    "from icon_registration.config import device\n",
    "import os\n",
    "\n",
    "import numpy as np\n",
    "import torch\n",
    "import torchvision.utils\n",
    "import matplotlib.pyplot as plt"
   ]
  },
  {
   "cell_type": "code",
   "execution_count": 3,
   "id": "89e97418-e825-4287-88e2-b69ddf0dd19e",
   "metadata": {},
   "outputs": [],
   "source": [
    "def show(tensor):\n",
    "    plt.imshow(torchvision.utils.make_grid(tensor[:2], nrow=3)[0].cpu().detach())\n",
    "    plt.xticks([])\n",
    "    plt.yticks([])"
   ]
  },
  {
   "cell_type": "code",
   "execution_count": 4,
   "id": "e680e37b-36a0-49d9-8685-847996808185",
   "metadata": {},
   "outputs": [
    {
     "data": {
      "text/plain": [
       "<matplotlib.image.AxesImage at 0x7f7dec0e8460>"
      ]
     },
     "execution_count": 4,
     "metadata": {},
     "output_type": "execute_result"
    },
    {
     "data": {
      "image/png": "[encoded data removed]",
      "text/plain": [
       "<Figure size 432x288 with 1 Axes>"
      ]
     },
     "metadata": {
      "needs_background": "light"
     },
     "output_type": "display_data"
    }
   ],
   "source": [
    "# Retrieves the first 5 samples of the training split of the MNIST dataset, handwritten digits\n",
    "ds, _ = icon_registration.data.get_dataset_mnist(split=\"train\", number=5)\n",
    "\n",
    "# Get an iterator the the dataset and retrive the first batch\n",
    "sample_batch = next(iter(ds))[0]\n",
    "\n",
    "# Create a grid of the first 12 images with 4 images per row and display it\n",
    "plt.imshow(torchvision.utils.make_grid(sample_batch[:12], nrow=4)[0])"
   ]
  },
  {
   "cell_type": "code",
   "execution_count": 5,
   "id": "de44e3d1-73d8-4da2-9b4d-c2ba2f66e4fe",
   "metadata": {},
   "outputs": [],
   "source": [
    "# Get the first two images from the dataset\n",
    "# image_A, image_B = next(iter(ds))[0][:2]  # Select the first two images from the batch\n",
    "\n",
    "# # Save images A and B as tensors\n",
    "# torch.save(image_A, 'image_A.pt')\n",
    "# torch.save(image_B, 'image_B.pt')\n",
    "\n",
    "\n",
    "\n",
    "#import torch\n",
    "\n",
    "# Load image A tensor\n",
    "#image_A = torch.load('image_A.pt')\n",
    "\n",
    "# Load image B tensor\n",
    "#image_B = torch.load('image_B.pt')"
   ]
  },
  {
   "cell_type": "code",
   "execution_count": 6,
   "id": "4c9d5b3d-4ecd-433c-8210-73c896ec83f1",
   "metadata": {},
   "outputs": [
    {
     "name": "stdout",
     "output_type": "stream",
     "text": [
      "PyTorch has been imported successfully!\n"
     ]
    }
   ],
   "source": [
    "try:\n",
    "    import torch\n",
    "    print(\"PyTorch has been imported successfully!\")\n",
    "except ImportError:\n",
    "    print(\"PyTorch is not installed or imported correctly.\")"
   ]
  },
  {
   "cell_type": "code",
   "execution_count": 7,
   "id": "bc726b6a-50a2-4032-af51-4ac830c390ba",
   "metadata": {},
   "outputs": [],
   "source": [
    "# Load image A tensor\n",
    "image_A = torch.load('image_A.pt')\n",
    "\n",
    "# Load image B tensor\n",
    "image_B = torch.load('image_B.pt')"
   ]
  },
  {
   "cell_type": "code",
   "execution_count": 8,
   "id": "6e6de461-1638-410c-9b64-13058f8d23b5",
   "metadata": {},
   "outputs": [],
   "source": [
    "inner_net = icon.FunctionFromVectorField(networks.tallUNet2(dimension=2))\n",
    "\n",
    "for _ in range(3):\n",
    "     inner_net = icon.TwoStepRegistration(\n",
    "         icon.DownsampleRegistration(inner_net, dimension=2),\n",
    "         icon.FunctionFromVectorField(networks.tallUNet2(dimension=2))\n",
    "     )\n",
    "\n",
    "net = icon.GradientICON(inner_net, icon.LNCC(sigma=4), lmbda=.5)\n",
    "net.assign_identity_map(sample_batch.shape)"
   ]
  },
  {
   "cell_type": "code",
   "execution_count": null,
   "id": "d4bd9e3b-ba7f-4f79-9c70-896cc5487987",
   "metadata": {},
   "outputs": [],
   "source": []
  },
  {
   "cell_type": "code",
   "execution_count": 9,
   "id": "ff14565e-7596-485b-b817-5a61f894c1d4",
   "metadata": {},
   "outputs": [
    {
     "name": "stderr",
     "output_type": "stream",
     "text": [
      "100%|██████████| 5/5 [00:24<00:00,  4.93s/it]\n"
     ]
    },
    {
     "ename": "AssertionError",
     "evalue": "",
     "output_type": "error",
     "traceback": [
      "\u001b[0;31m---------------------------------------------------------------------------\u001b[0m",
      "\u001b[0;31mAssertionError\u001b[0m                            Traceback (most recent call last)",
      "\u001b[0;32m/tmp/ipykernel_977615/301695489.py\u001b[0m in \u001b[0;36m<module>\u001b[0;34m\u001b[0m\n\u001b[1;32m     29\u001b[0m \u001b[0;34m\u001b[0m\u001b[0m\n\u001b[1;32m     30\u001b[0m     \u001b[0;31m# Pass both images through the network\u001b[0m\u001b[0;34m\u001b[0m\u001b[0;34m\u001b[0m\u001b[0m\n\u001b[0;32m---> 31\u001b[0;31m     \u001b[0mnet\u001b[0m\u001b[0;34m(\u001b[0m\u001b[0mimage_A\u001b[0m\u001b[0;34m,\u001b[0m \u001b[0mimage_B\u001b[0m\u001b[0;34m)\u001b[0m\u001b[0;34m\u001b[0m\u001b[0;34m\u001b[0m\u001b[0m\n\u001b[0m\u001b[1;32m     32\u001b[0m \u001b[0;34m\u001b[0m\u001b[0m\n\u001b[1;32m     33\u001b[0m     \u001b[0;31m# Store vector field tensor\u001b[0m\u001b[0;34m\u001b[0m\u001b[0;34m\u001b[0m\u001b[0m\n",
      "\u001b[0;32m~/.local/lib/python3.9/site-packages/torch/nn/modules/module.py\u001b[0m in \u001b[0;36m_wrapped_call_impl\u001b[0;34m(self, *args, **kwargs)\u001b[0m\n\u001b[1;32m   1509\u001b[0m             \u001b[0;32mreturn\u001b[0m \u001b[0mself\u001b[0m\u001b[0;34m.\u001b[0m\u001b[0m_compiled_call_impl\u001b[0m\u001b[0;34m(\u001b[0m\u001b[0;34m*\u001b[0m\u001b[0margs\u001b[0m\u001b[0;34m,\u001b[0m \u001b[0;34m**\u001b[0m\u001b[0mkwargs\u001b[0m\u001b[0;34m)\u001b[0m  \u001b[0;31m# type: ignore[misc]\u001b[0m\u001b[0;34m\u001b[0m\u001b[0;34m\u001b[0m\u001b[0m\n\u001b[1;32m   1510\u001b[0m         \u001b[0;32melse\u001b[0m\u001b[0;34m:\u001b[0m\u001b[0;34m\u001b[0m\u001b[0;34m\u001b[0m\u001b[0m\n\u001b[0;32m-> 1511\u001b[0;31m             \u001b[0;32mreturn\u001b[0m \u001b[0mself\u001b[0m\u001b[0;34m.\u001b[0m\u001b[0m_call_impl\u001b[0m\u001b[0;34m(\u001b[0m\u001b[0;34m*\u001b[0m\u001b[0margs\u001b[0m\u001b[0;34m,\u001b[0m \u001b[0;34m**\u001b[0m\u001b[0mkwargs\u001b[0m\u001b[0;34m)\u001b[0m\u001b[0;34m\u001b[0m\u001b[0;34m\u001b[0m\u001b[0m\n\u001b[0m\u001b[1;32m   1512\u001b[0m \u001b[0;34m\u001b[0m\u001b[0m\n\u001b[1;32m   1513\u001b[0m     \u001b[0;32mdef\u001b[0m \u001b[0m_call_impl\u001b[0m\u001b[0;34m(\u001b[0m\u001b[0mself\u001b[0m\u001b[0;34m,\u001b[0m \u001b[0;34m*\u001b[0m\u001b[0margs\u001b[0m\u001b[0;34m,\u001b[0m \u001b[0;34m**\u001b[0m\u001b[0mkwargs\u001b[0m\u001b[0;34m)\u001b[0m\u001b[0;34m:\u001b[0m\u001b[0;34m\u001b[0m\u001b[0;34m\u001b[0m\u001b[0m\n",
      "\u001b[0;32m~/.local/lib/python3.9/site-packages/torch/nn/modules/module.py\u001b[0m in \u001b[0;36m_call_impl\u001b[0;34m(self, *args, **kwargs)\u001b[0m\n\u001b[1;32m   1518\u001b[0m                 \u001b[0;32mor\u001b[0m \u001b[0m_global_backward_pre_hooks\u001b[0m \u001b[0;32mor\u001b[0m \u001b[0m_global_backward_hooks\u001b[0m\u001b[0;34m\u001b[0m\u001b[0;34m\u001b[0m\u001b[0m\n\u001b[1;32m   1519\u001b[0m                 or _global_forward_hooks or _global_forward_pre_hooks):\n\u001b[0;32m-> 1520\u001b[0;31m             \u001b[0;32mreturn\u001b[0m \u001b[0mforward_call\u001b[0m\u001b[0;34m(\u001b[0m\u001b[0;34m*\u001b[0m\u001b[0margs\u001b[0m\u001b[0;34m,\u001b[0m \u001b[0;34m**\u001b[0m\u001b[0mkwargs\u001b[0m\u001b[0;34m)\u001b[0m\u001b[0;34m\u001b[0m\u001b[0;34m\u001b[0m\u001b[0m\n\u001b[0m\u001b[1;32m   1521\u001b[0m \u001b[0;34m\u001b[0m\u001b[0m\n\u001b[1;32m   1522\u001b[0m         \u001b[0;32mtry\u001b[0m\u001b[0;34m:\u001b[0m\u001b[0;34m\u001b[0m\u001b[0;34m\u001b[0m\u001b[0m\n",
      "\u001b[0;32m~/.local/lib/python3.9/site-packages/icon_registration/losses.py\u001b[0m in \u001b[0;36mforward\u001b[0;34m(self, image_A, image_B)\u001b[0m\n\u001b[1;32m    205\u001b[0m     \u001b[0;32mdef\u001b[0m \u001b[0mforward\u001b[0m\u001b[0;34m(\u001b[0m\u001b[0mself\u001b[0m\u001b[0;34m,\u001b[0m \u001b[0mimage_A\u001b[0m\u001b[0;34m,\u001b[0m \u001b[0mimage_B\u001b[0m\u001b[0;34m)\u001b[0m \u001b[0;34m->\u001b[0m \u001b[0mICONLoss\u001b[0m\u001b[0;34m:\u001b[0m\u001b[0;34m\u001b[0m\u001b[0;34m\u001b[0m\u001b[0m\n\u001b[1;32m    206\u001b[0m \u001b[0;34m\u001b[0m\u001b[0m\n\u001b[0;32m--> 207\u001b[0;31m         \u001b[0;32massert\u001b[0m \u001b[0mself\u001b[0m\u001b[0;34m.\u001b[0m\u001b[0midentity_map\u001b[0m\u001b[0;34m.\u001b[0m\u001b[0mshape\u001b[0m\u001b[0;34m[\u001b[0m\u001b[0;36m2\u001b[0m\u001b[0;34m:\u001b[0m\u001b[0;34m]\u001b[0m \u001b[0;34m==\u001b[0m \u001b[0mimage_A\u001b[0m\u001b[0;34m.\u001b[0m\u001b[0mshape\u001b[0m\u001b[0;34m[\u001b[0m\u001b[0;36m2\u001b[0m\u001b[0;34m:\u001b[0m\u001b[0;34m]\u001b[0m\u001b[0;34m\u001b[0m\u001b[0;34m\u001b[0m\u001b[0m\n\u001b[0m\u001b[1;32m    208\u001b[0m         \u001b[0;32massert\u001b[0m \u001b[0mself\u001b[0m\u001b[0;34m.\u001b[0m\u001b[0midentity_map\u001b[0m\u001b[0;34m.\u001b[0m\u001b[0mshape\u001b[0m\u001b[0;34m[\u001b[0m\u001b[0;36m2\u001b[0m\u001b[0;34m:\u001b[0m\u001b[0;34m]\u001b[0m \u001b[0;34m==\u001b[0m \u001b[0mimage_B\u001b[0m\u001b[0;34m.\u001b[0m\u001b[0mshape\u001b[0m\u001b[0;34m[\u001b[0m\u001b[0;36m2\u001b[0m\u001b[0;34m:\u001b[0m\u001b[0;34m]\u001b[0m\u001b[0;34m\u001b[0m\u001b[0;34m\u001b[0m\u001b[0m\n\u001b[1;32m    209\u001b[0m \u001b[0;34m\u001b[0m\u001b[0m\n",
      "\u001b[0;31mAssertionError\u001b[0m: "
     ]
    }
   ],
   "source": [
    "# Define the GradICON regularizer\n",
    "regularizer = ('GradICON', icon.GradientICON(inner_net, icon.LNCC(sigma=4), lmbda=.5))\n",
    "\n",
    "# Initialize list to store vector fields for GradICON regularizer\n",
    "vector_fields = []\n",
    "\n",
    "# Assuming your directory path where you want to save the vector fields and plot outputs\n",
    "output_directory = \"/work/users/a/g/agdylan/icon_registration_project\"\n",
    "\n",
    "# Train 10 registration networks for GradICON regularizer\n",
    "for i in range(10):\n",
    "    # Initialize network\n",
    "    net = regularizer[1]\n",
    "\n",
    "    # Initialize identity map for the provided sample batch\n",
    "    net.assign_identity_map(sample_batch.shape)\n",
    "\n",
    "    # Put network in training mode\n",
    "    net.train()\n",
    "\n",
    "    # Move the network parameters to the specified device (GPU or CPU)\n",
    "    device = torch.device(\"cuda\" if torch.cuda.is_available() else \"cpu\")\n",
    "    net.to(device)\n",
    "\n",
    "    optim = torch.optim.Adam(net.parameters(), lr=0.001)\n",
    "\n",
    "    # Train the network using provided dataset for 5 epochs\n",
    "    curves = icon.train_datasets(net, optim, ds, ds, epochs=5)\n",
    "\n",
    "    # Pass both images through the network\n",
    "    \n",
    "\n",
    "    \n",
    "    net(image_A.to(device), image_B.to(device))\n",
    "\n",
    "    # Store vector field tensor\n",
    "    vector_field = net.phi_AB_vectorfield\n",
    "\n",
    "    # Append vector field to list\n",
    "    vector_fields.append(vector_field)\n",
    "\n",
    "    # Plot and save the outputs\n",
    "    plt.figure(figsize=(12, 8))\n",
    "\n",
    "    plt.subplot(2, 2, 1)\n",
    "    show(image_A)\n",
    "    plt.title('Image A')\n",
    "\n",
    "    plt.subplot(2, 2, 2)\n",
    "    show(image_B)\n",
    "    plt.title('Image B')\n",
    "\n",
    "    plt.subplot(2, 2, 3)\n",
    "    show(net.warped_image_A)\n",
    "    plt.contour(torchvision.utils.make_grid(net.phi_AB_vectorfield[:2], nrow=3)[0].cpu().detach())  # Draws vertical grid lines\n",
    "    plt.contour(torchvision.utils.make_grid(net.phi_AB_vectorfield[:2], nrow=3)[1].cpu().detach())  # Draws horizontal grid lines\n",
    "    plt.title('Warped Image A with Vector Field')\n",
    "\n",
    "    plt.subplot(2, 2, 4)\n",
    "    show(net.warped_image_A - image_B)\n",
    "    plt.title('Difference Image (Warped A - B)')\n",
    "\n",
    "    plt.tight_layout()\n",
    "\n",
    "    # Save the plot output to a file\n",
    "    plot_file_path = os.path.join(output_directory, f\"plot_output_{i + 1}.png\")\n",
    "    plt.savefig(plot_file_path)\n",
    "    print(f\"Plot output {i + 1} saved to: {plot_file_path}\")\n",
    "\n",
    "# Save the entire list of vector fields to a single file\n",
    "full_file_path = os.path.join(output_directory, \"vector_fields.pt\")\n",
    "torch.save(vector_fields, full_file_path)\n",
    "print(f\"All vector fields saved to: {full_file_path}\")\n"
   ]
  },
  {
   "cell_type": "code",
   "execution_count": null,
   "id": "3e3f66e1-8b67-4e53-9b82-74f180fdebde",
   "metadata": {},
   "outputs": [],
   "source": [
    "# Load the list of vector fields from the saved file\n",
    "saved_vector_fields = torch.load(\"/work/users/a/g/agdylan/icon_registration_project/vector_fields.pt\")\n",
    "\n",
    "# Calculate the mean tensor\n",
    "mean_tensor = torch.mean(torch.stack(saved_vector_fields), dim=0)\n",
    "\n",
    "# Calculate the standard deviation tensor\n",
    "std_tensor = torch.std(torch.stack(saved_vector_fields), dim=0)\n",
    "\n",
    "# Now you can use mean_tensor and std_tensor for further analysis or processing\n",
    "print(\"Mean Tensor:\")\n",
    "print(mean_tensor)\n",
    "\n",
    "print(\"\\nStandard Deviation Tensor:\")\n",
    "print(std_tensor)\n"
   ]
  },
  {
   "cell_type": "code",
   "execution_count": null,
   "id": "6cd7401e-f113-4524-8d93-b8ee3d0cdd22",
   "metadata": {},
   "outputs": [],
   "source": [
    "# Save mean tensor to file\n",
    "mean_file_path = \"/work/users/a/g/agdylan/icon_registration_project/mean_tensor.pt\"\n",
    "torch.save(mean_tensor, mean_file_path)\n",
    "print(f\"Mean tensor saved to: {mean_file_path}\")\n",
    "\n",
    "# Save standard deviation tensor to file\n",
    "std_file_path = \"/work/users/a/g/agdylan/icon_registration_project/std_tensor.pt\"\n",
    "torch.save(std_tensor, std_file_path)\n",
    "print(f\"Standard deviation tensor saved to: {std_file_path}\")"
   ]
  },
  {
   "cell_type": "code",
   "execution_count": null,
   "id": "8cbfe783-e646-4dc6-9fef-f9b9bd4ad45e",
   "metadata": {},
   "outputs": [],
   "source": [
    "# Load the list of vector fields from the saved file\n",
    "saved_vector_fields = torch.load(\"/work/users/a/g/agdylan/icon_registration_project/vector_fields.pt\")\n",
    "\n",
    "# Stack the vector fields into a single tensor\n",
    "stacked_vector_fields = torch.stack(saved_vector_fields)\n",
    "\n",
    "# Reshape the tensor to have dimensions (num_fields, num_elements)\n",
    "num_fields, num_elements = stacked_vector_fields.shape[0], torch.prod(torch.tensor(stacked_vector_fields.shape[1:]))\n",
    "\n",
    "# Reshape the tensor to have dimensions (num_fields, num_elements)\n",
    "stacked_vector_fields_reshaped = stacked_vector_fields.view(num_fields, num_elements)\n",
    "\n",
    "# Calculate the covariance matrix\n",
    "covariance_matrix = torch.matmul(stacked_vector_fields_reshaped.T, stacked_vector_fields_reshaped) / num_fields\n",
    "\n",
    "# Now you can use covariance_matrix for further analysis\n",
    "print(\"Covariance Matrix:\")\n",
    "print(covariance_matrix)"
   ]
  },
  {
   "cell_type": "code",
   "execution_count": null,
   "id": "a0d55fda-5bb8-4ac3-9c92-114aa50fca95",
   "metadata": {},
   "outputs": [],
   "source": []
  },
  {
   "cell_type": "code",
   "execution_count": null,
   "id": "7cce6719-e9d0-443c-90a8-cbbb52f0c43d",
   "metadata": {},
   "outputs": [],
   "source": []
  }
 ],
 "metadata": {
  "kernelspec": {
   "display_name": "Python 3",
   "language": "python",
   "name": "python3"
  },
  "language_info": {
   "codemirror_mode": {
    "name": "ipython",
    "version": 3
   },
   "file_extension": ".py",
   "mimetype": "text/x-python",
   "name": "python",
   "nbconvert_exporter": "python",
   "pygments_lexer": "ipython3",
   "version": "3.9.7"
  }
 },
 "nbformat": 4,
 "nbformat_minor": 5
}
