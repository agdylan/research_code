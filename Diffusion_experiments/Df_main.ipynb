{
 "cells": [
  {
   "cell_type": "code",
   "execution_count": 1,
   "id": "f1950b16-b985-4d4b-82ac-1fc85265a7f3",
   "metadata": {},
   "outputs": [
    {
     "name": "stdout",
     "output_type": "stream",
     "text": [
      "Defaulting to user installation because normal site-packages is not writeable\n",
      "Requirement already satisfied: icon_registration in /nas/longleaf/home/agdylan/.local/lib/python3.9/site-packages (1.1.4)\n",
      "Requirement already satisfied: tensorboard in /nas/longleaf/home/agdylan/.local/lib/python3.9/site-packages (from icon_registration) (2.16.2)\n",
      "Requirement already satisfied: itk>=5.3a in /nas/longleaf/home/agdylan/.local/lib/python3.9/site-packages (from icon_registration) (5.4rc3)\n",
      "Requirement already satisfied: matplotlib in /nas/longleaf/rhel8/apps/anaconda/2021.11.ood/lib/python3.9/site-packages (from icon_registration) (3.4.3)\n",
      "Requirement already satisfied: torchvision in /nas/longleaf/home/agdylan/.local/lib/python3.9/site-packages (from icon_registration) (0.17.2)\n",
      "Requirement already satisfied: girder-client==3.1.8 in /nas/longleaf/home/agdylan/.local/lib/python3.9/site-packages (from icon_registration) (3.1.8)\n",
      "Requirement already satisfied: tqdm in /nas/longleaf/rhel8/apps/anaconda/2021.11.ood/lib/python3.9/site-packages (from icon_registration) (4.62.3)\n",
      "Requirement already satisfied: torch in /nas/longleaf/home/agdylan/.local/lib/python3.9/site-packages (from icon_registration) (2.2.2)\n",
      "Requirement already satisfied: footsteps>=0.1.6 in /nas/longleaf/home/agdylan/.local/lib/python3.9/site-packages (from icon_registration) (0.1.9)\n",
      "Requirement already satisfied: requests>=2.4.2 in /nas/longleaf/rhel8/apps/anaconda/2021.11.ood/lib/python3.9/site-packages (from girder-client==3.1.8->icon_registration) (2.26.0)\n",
      "Requirement already satisfied: requests-toolbelt in /nas/longleaf/home/agdylan/.local/lib/python3.9/site-packages (from girder-client==3.1.8->icon_registration) (1.0.0)\n",
      "Requirement already satisfied: diskcache in /nas/longleaf/home/agdylan/.local/lib/python3.9/site-packages (from girder-client==3.1.8->icon_registration) (5.6.3)\n",
      "Requirement already satisfied: click>=6.7 in /nas/longleaf/rhel8/apps/anaconda/2021.11.ood/lib/python3.9/site-packages (from girder-client==3.1.8->icon_registration) (8.0.3)\n",
      "Requirement already satisfied: itk-filtering==5.4rc3 in /nas/longleaf/home/agdylan/.local/lib/python3.9/site-packages (from itk>=5.3a->icon_registration) (5.4rc3)\n",
      "Requirement already satisfied: itk-segmentation==5.4rc3 in /nas/longleaf/home/agdylan/.local/lib/python3.9/site-packages (from itk>=5.3a->icon_registration) (5.4rc3)\n",
      "Requirement already satisfied: itk-numerics==5.4rc3 in /nas/longleaf/home/agdylan/.local/lib/python3.9/site-packages (from itk>=5.3a->icon_registration) (5.4rc3)\n",
      "Requirement already satisfied: itk-io==5.4rc3 in /nas/longleaf/home/agdylan/.local/lib/python3.9/site-packages (from itk>=5.3a->icon_registration) (5.4rc3)\n",
      "Requirement already satisfied: itk-registration==5.4rc3 in /nas/longleaf/home/agdylan/.local/lib/python3.9/site-packages (from itk>=5.3a->icon_registration) (5.4rc3)\n",
      "Requirement already satisfied: itk-core==5.4rc3 in /nas/longleaf/home/agdylan/.local/lib/python3.9/site-packages (from itk>=5.3a->icon_registration) (5.4rc3)\n",
      "Requirement already satisfied: numpy in /nas/longleaf/rhel8/apps/anaconda/2021.11.ood/lib/python3.9/site-packages (from itk>=5.3a->icon_registration) (1.20.3)\n",
      "Requirement already satisfied: urllib3<1.27,>=1.21.1 in /nas/longleaf/rhel8/apps/anaconda/2021.11.ood/lib/python3.9/site-packages (from requests>=2.4.2->girder-client==3.1.8->icon_registration) (1.26.7)\n",
      "Requirement already satisfied: charset-normalizer~=2.0.0 in /nas/longleaf/rhel8/apps/anaconda/2021.11.ood/lib/python3.9/site-packages (from requests>=2.4.2->girder-client==3.1.8->icon_registration) (2.0.4)\n",
      "Requirement already satisfied: certifi>=2017.4.17 in /nas/longleaf/rhel8/apps/anaconda/2021.11.ood/lib/python3.9/site-packages (from requests>=2.4.2->girder-client==3.1.8->icon_registration) (2021.10.8)\n",
      "Requirement already satisfied: idna<4,>=2.5 in /nas/longleaf/rhel8/apps/anaconda/2021.11.ood/lib/python3.9/site-packages (from requests>=2.4.2->girder-client==3.1.8->icon_registration) (3.2)\n",
      "Requirement already satisfied: python-dateutil>=2.7 in /nas/longleaf/rhel8/apps/anaconda/2021.11.ood/lib/python3.9/site-packages (from matplotlib->icon_registration) (2.8.2)\n",
      "Requirement already satisfied: pyparsing>=2.2.1 in /nas/longleaf/rhel8/apps/anaconda/2021.11.ood/lib/python3.9/site-packages (from matplotlib->icon_registration) (3.0.4)\n",
      "Requirement already satisfied: cycler>=0.10 in /nas/longleaf/rhel8/apps/anaconda/2021.11.ood/lib/python3.9/site-packages (from matplotlib->icon_registration) (0.10.0)\n",
      "Requirement already satisfied: kiwisolver>=1.0.1 in /nas/longleaf/rhel8/apps/anaconda/2021.11.ood/lib/python3.9/site-packages (from matplotlib->icon_registration) (1.3.1)\n",
      "Requirement already satisfied: pillow>=6.2.0 in /nas/longleaf/rhel8/apps/anaconda/2021.11.ood/lib/python3.9/site-packages (from matplotlib->icon_registration) (8.4.0)\n",
      "Requirement already satisfied: six in /nas/longleaf/rhel8/apps/anaconda/2021.11.ood/lib/python3.9/site-packages (from cycler>=0.10->matplotlib->icon_registration) (1.16.0)\n",
      "Requirement already satisfied: setuptools>=41.0.0 in /nas/longleaf/rhel8/apps/anaconda/2021.11.ood/lib/python3.9/site-packages (from tensorboard->icon_registration) (58.0.4)\n",
      "Requirement already satisfied: absl-py>=0.4 in /nas/longleaf/home/agdylan/.local/lib/python3.9/site-packages (from tensorboard->icon_registration) (2.1.0)\n",
      "Requirement already satisfied: grpcio>=1.48.2 in /nas/longleaf/home/agdylan/.local/lib/python3.9/site-packages (from tensorboard->icon_registration) (1.62.1)\n",
      "Requirement already satisfied: protobuf!=4.24.0,>=3.19.6 in /nas/longleaf/home/agdylan/.local/lib/python3.9/site-packages (from tensorboard->icon_registration) (5.26.1)\n",
      "Requirement already satisfied: tensorboard-data-server<0.8.0,>=0.7.0 in /nas/longleaf/home/agdylan/.local/lib/python3.9/site-packages (from tensorboard->icon_registration) (0.7.2)\n",
      "Requirement already satisfied: markdown>=2.6.8 in /nas/longleaf/home/agdylan/.local/lib/python3.9/site-packages (from tensorboard->icon_registration) (3.6)\n",
      "Requirement already satisfied: werkzeug>=1.0.1 in /nas/longleaf/rhel8/apps/anaconda/2021.11.ood/lib/python3.9/site-packages (from tensorboard->icon_registration) (2.0.2)\n",
      "Requirement already satisfied: importlib-metadata>=4.4 in /nas/longleaf/rhel8/apps/anaconda/2021.11.ood/lib/python3.9/site-packages (from markdown>=2.6.8->tensorboard->icon_registration) (4.8.1)\n",
      "Requirement already satisfied: zipp>=0.5 in /nas/longleaf/rhel8/apps/anaconda/2021.11.ood/lib/python3.9/site-packages (from importlib-metadata>=4.4->markdown>=2.6.8->tensorboard->icon_registration) (3.6.0)\n",
      "Requirement already satisfied: nvidia-cuda-runtime-cu12==12.1.105 in /nas/longleaf/home/agdylan/.local/lib/python3.9/site-packages (from torch->icon_registration) (12.1.105)\n",
      "Requirement already satisfied: fsspec in /nas/longleaf/rhel8/apps/anaconda/2021.11.ood/lib/python3.9/site-packages (from torch->icon_registration) (2021.8.1)\n",
      "Requirement already satisfied: nvidia-cudnn-cu12==8.9.2.26 in /nas/longleaf/home/agdylan/.local/lib/python3.9/site-packages (from torch->icon_registration) (8.9.2.26)\n",
      "Requirement already satisfied: nvidia-cufft-cu12==11.0.2.54 in /nas/longleaf/home/agdylan/.local/lib/python3.9/site-packages (from torch->icon_registration) (11.0.2.54)\n",
      "Requirement already satisfied: typing-extensions>=4.8.0 in /nas/longleaf/home/agdylan/.local/lib/python3.9/site-packages (from torch->icon_registration) (4.11.0)\n",
      "Requirement already satisfied: nvidia-curand-cu12==10.3.2.106 in /nas/longleaf/home/agdylan/.local/lib/python3.9/site-packages (from torch->icon_registration) (10.3.2.106)\n",
      "Requirement already satisfied: nvidia-cuda-cupti-cu12==12.1.105 in /nas/longleaf/home/agdylan/.local/lib/python3.9/site-packages (from torch->icon_registration) (12.1.105)\n",
      "Requirement already satisfied: nvidia-cusolver-cu12==11.4.5.107 in /nas/longleaf/home/agdylan/.local/lib/python3.9/site-packages (from torch->icon_registration) (11.4.5.107)\n",
      "Requirement already satisfied: filelock in /nas/longleaf/rhel8/apps/anaconda/2021.11.ood/lib/python3.9/site-packages (from torch->icon_registration) (3.3.1)\n",
      "Requirement already satisfied: nvidia-nvtx-cu12==12.1.105 in /nas/longleaf/home/agdylan/.local/lib/python3.9/site-packages (from torch->icon_registration) (12.1.105)\n",
      "Requirement already satisfied: nvidia-cusparse-cu12==12.1.0.106 in /nas/longleaf/home/agdylan/.local/lib/python3.9/site-packages (from torch->icon_registration) (12.1.0.106)\n",
      "Requirement already satisfied: nvidia-nccl-cu12==2.19.3 in /nas/longleaf/home/agdylan/.local/lib/python3.9/site-packages (from torch->icon_registration) (2.19.3)\n",
      "Requirement already satisfied: nvidia-cublas-cu12==12.1.3.1 in /nas/longleaf/home/agdylan/.local/lib/python3.9/site-packages (from torch->icon_registration) (12.1.3.1)\n",
      "Requirement already satisfied: sympy in /nas/longleaf/rhel8/apps/anaconda/2021.11.ood/lib/python3.9/site-packages (from torch->icon_registration) (1.9)\n",
      "Requirement already satisfied: networkx in /nas/longleaf/rhel8/apps/anaconda/2021.11.ood/lib/python3.9/site-packages (from torch->icon_registration) (2.6.3)\n",
      "Requirement already satisfied: jinja2 in /nas/longleaf/rhel8/apps/anaconda/2021.11.ood/lib/python3.9/site-packages (from torch->icon_registration) (2.11.3)\n",
      "Requirement already satisfied: nvidia-cuda-nvrtc-cu12==12.1.105 in /nas/longleaf/home/agdylan/.local/lib/python3.9/site-packages (from torch->icon_registration) (12.1.105)\n",
      "Requirement already satisfied: triton==2.2.0 in /nas/longleaf/home/agdylan/.local/lib/python3.9/site-packages (from torch->icon_registration) (2.2.0)\n",
      "Requirement already satisfied: nvidia-nvjitlink-cu12 in /nas/longleaf/home/agdylan/.local/lib/python3.9/site-packages (from nvidia-cusolver-cu12==11.4.5.107->torch->icon_registration) (12.4.127)\n",
      "Requirement already satisfied: MarkupSafe>=0.23 in /nas/longleaf/rhel8/apps/anaconda/2021.11.ood/lib/python3.9/site-packages (from jinja2->torch->icon_registration) (1.1.1)\n",
      "Requirement already satisfied: mpmath>=0.19 in /nas/longleaf/rhel8/apps/anaconda/2021.11.ood/lib/python3.9/site-packages (from sympy->torch->icon_registration) (1.2.1)\n"
     ]
    }
   ],
   "source": [
    "! pip install icon_registration"
   ]
  },
  {
   "cell_type": "code",
   "execution_count": 2,
   "id": "33d3a479-52e0-4f70-a898-d9a27f5bb313",
   "metadata": {},
   "outputs": [],
   "source": [
    "import icon_registration as icon\n",
    "import icon_registration.data\n",
    "import icon_registration.networks as networks\n",
    "from icon_registration.config import device\n",
    "import os\n",
    "\n",
    "import numpy as np\n",
    "import torch\n",
    "import torchvision.utils\n",
    "import matplotlib.pyplot as plt"
   ]
  },
  {
   "cell_type": "code",
   "execution_count": 3,
   "id": "cd728666-0502-4c8f-841c-da925b59cda7",
   "metadata": {},
   "outputs": [],
   "source": [
    "def show(tensor):\n",
    "    plt.imshow(torchvision.utils.make_grid(tensor[:2], nrow=3)[0].cpu().detach())\n",
    "    plt.xticks([])\n",
    "    plt.yticks([])"
   ]
  },
  {
   "cell_type": "code",
   "execution_count": 4,
   "id": "a32db6c0-e937-4798-8089-d436f4882540",
   "metadata": {},
   "outputs": [
    {
     "name": "stdout",
     "output_type": "stream",
     "text": [
      "Downloading http://yann.lecun.com/exdb/mnist/train-images-idx3-ubyte.gz\n",
      "Downloading http://yann.lecun.com/exdb/mnist/train-images-idx3-ubyte.gz to ./files/MNIST/raw/train-images-idx3-ubyte.gz\n"
     ]
    },
    {
     "name": "stderr",
     "output_type": "stream",
     "text": [
      "100%|██████████| 9912422/9912422 [00:00<00:00, 28966222.27it/s]\n"
     ]
    },
    {
     "name": "stdout",
     "output_type": "stream",
     "text": [
      "Extracting ./files/MNIST/raw/train-images-idx3-ubyte.gz to ./files/MNIST/raw\n",
      "\n",
      "Downloading http://yann.lecun.com/exdb/mnist/train-labels-idx1-ubyte.gz\n",
      "Downloading http://yann.lecun.com/exdb/mnist/train-labels-idx1-ubyte.gz to ./files/MNIST/raw/train-labels-idx1-ubyte.gz\n"
     ]
    },
    {
     "name": "stderr",
     "output_type": "stream",
     "text": [
      "100%|██████████| 28881/28881 [00:00<00:00, 92682244.70it/s]"
     ]
    },
    {
     "name": "stdout",
     "output_type": "stream",
     "text": [
      "Extracting ./files/MNIST/raw/train-labels-idx1-ubyte.gz to ./files/MNIST/raw\n",
      "\n",
      "Downloading http://yann.lecun.com/exdb/mnist/t10k-images-idx3-ubyte.gz\n"
     ]
    },
    {
     "name": "stderr",
     "output_type": "stream",
     "text": [
      "\n"
     ]
    },
    {
     "name": "stdout",
     "output_type": "stream",
     "text": [
      "Downloading http://yann.lecun.com/exdb/mnist/t10k-images-idx3-ubyte.gz to ./files/MNIST/raw/t10k-images-idx3-ubyte.gz\n"
     ]
    },
    {
     "name": "stderr",
     "output_type": "stream",
     "text": [
      "100%|██████████| 1648877/1648877 [00:00<00:00, 14056432.70it/s]"
     ]
    },
    {
     "name": "stdout",
     "output_type": "stream",
     "text": [
      "Extracting ./files/MNIST/raw/t10k-images-idx3-ubyte.gz to ./files/MNIST/raw\n"
     ]
    },
    {
     "name": "stderr",
     "output_type": "stream",
     "text": [
      "\n"
     ]
    },
    {
     "name": "stdout",
     "output_type": "stream",
     "text": [
      "\n",
      "Downloading http://yann.lecun.com/exdb/mnist/t10k-labels-idx1-ubyte.gz\n",
      "Downloading http://yann.lecun.com/exdb/mnist/t10k-labels-idx1-ubyte.gz to ./files/MNIST/raw/t10k-labels-idx1-ubyte.gz\n"
     ]
    },
    {
     "name": "stderr",
     "output_type": "stream",
     "text": [
      "100%|██████████| 4542/4542 [00:00<00:00, 17721422.11it/s]\n"
     ]
    },
    {
     "name": "stdout",
     "output_type": "stream",
     "text": [
      "Extracting ./files/MNIST/raw/t10k-labels-idx1-ubyte.gz to ./files/MNIST/raw\n",
      "\n"
     ]
    },
    {
     "data": {
      "text/plain": [
       "<matplotlib.image.AxesImage at 0x7ff383c4e6a0>"
      ]
     },
     "execution_count": 4,
     "metadata": {},
     "output_type": "execute_result"
    },
    {
     "data": {
      "image/png": "[encoded data removed]",
      "text/plain": [
       "<Figure size 432x288 with 1 Axes>"
      ]
     },
     "metadata": {
      "needs_background": "light"
     },
     "output_type": "display_data"
    }
   ],
   "source": [
    "# # Retrieves the first 5 samples of the training split of the MNIST dataset, handwritten digits\n",
    "ds, _ = icon_registration.data.get_dataset_mnist(split=\"train\", number=5)\n",
    "\n",
    "# # Get an iterator the the dataset and retrive the first batch\n",
    "sample_batch = next(iter(ds))[0]\n",
    "\n",
    "# # Create a grid of the first 12 images with 4 images per row and display it\n",
    "plt.imshow(torchvision.utils.make_grid(sample_batch[:12], nrow=4)[0])"
   ]
  },
  {
   "cell_type": "code",
   "execution_count": 5,
   "id": "a0a460f9-7b2e-4cca-8dbe-02f3f8ca5120",
   "metadata": {},
   "outputs": [],
   "source": [
    "# # Load image A tensor\n",
    "image_A = torch.load('image_A.pt')\n",
    "\n",
    "# # Load image B tensor\n",
    "image_B = torch.load('image_B.pt')"
   ]
  },
  {
   "cell_type": "code",
   "execution_count": 7,
   "id": "539d5fcb-92bb-4f44-a75f-a5f5fd1d5a16",
   "metadata": {},
   "outputs": [],
   "source": [
    "inner_net = icon.FunctionFromVectorField(networks.tallUNet2(dimension=2))\n",
    "\n",
    "for _ in range(3):\n",
    "     inner_net = icon.TwoStepRegistration(\n",
    "         icon.DownsampleRegistration(inner_net, dimension=2),\n",
    "         icon.FunctionFromVectorField(networks.tallUNet2(dimension=2))\n",
    "     )\n",
    "regularizer = ('Diffusion', icon.losses.DiffusionRegularizedNet(inner_net, icon.LNCC(sigma=4), lmbda = 2))\n",
    "net = regularizer[1]\n",
    "net.assign_identity_map(sample_batch.shape)"
   ]
  },
  {
   "cell_type": "code",
   "execution_count": null,
   "id": "4f91d2d6-2232-40e9-8b3e-8c36897d7150",
   "metadata": {},
   "outputs": [
    {
     "name": "stderr",
     "output_type": "stream",
     "text": [
      "100%|██████████| 5/5 [00:11<00:00,  2.39s/it]\n"
     ]
    },
    {
     "name": "stdout",
     "output_type": "stream",
     "text": [
      "Plot output 1 saved to: /work/users/a/g/agdylan/icon_registration_project/Diffusion_experiments/plot_output_1.png\n"
     ]
    },
    {
     "name": "stderr",
     "output_type": "stream",
     "text": [
      "100%|██████████| 5/5 [00:10<00:00,  2.20s/it]\n"
     ]
    },
    {
     "name": "stdout",
     "output_type": "stream",
     "text": [
      "Plot output 2 saved to: /work/users/a/g/agdylan/icon_registration_project/Diffusion_experiments/plot_output_2.png\n"
     ]
    },
    {
     "name": "stderr",
     "output_type": "stream",
     "text": [
      "100%|██████████| 5/5 [00:11<00:00,  2.22s/it]\n"
     ]
    },
    {
     "name": "stdout",
     "output_type": "stream",
     "text": [
      "Plot output 3 saved to: /work/users/a/g/agdylan/icon_registration_project/Diffusion_experiments/plot_output_3.png\n"
     ]
    },
    {
     "name": "stderr",
     "output_type": "stream",
     "text": [
      "100%|██████████| 5/5 [00:11<00:00,  2.23s/it]\n"
     ]
    },
    {
     "name": "stdout",
     "output_type": "stream",
     "text": [
      "Plot output 4 saved to: /work/users/a/g/agdylan/icon_registration_project/Diffusion_experiments/plot_output_4.png\n"
     ]
    },
    {
     "name": "stderr",
     "output_type": "stream",
     "text": [
      "100%|██████████| 5/5 [00:11<00:00,  2.23s/it]\n"
     ]
    },
    {
     "name": "stdout",
     "output_type": "stream",
     "text": [
      "Plot output 5 saved to: /work/users/a/g/agdylan/icon_registration_project/Diffusion_experiments/plot_output_5.png\n"
     ]
    },
    {
     "name": "stderr",
     "output_type": "stream",
     "text": [
      "100%|██████████| 5/5 [00:11<00:00,  2.22s/it]\n"
     ]
    },
    {
     "name": "stdout",
     "output_type": "stream",
     "text": [
      "Plot output 6 saved to: /work/users/a/g/agdylan/icon_registration_project/Diffusion_experiments/plot_output_6.png\n"
     ]
    },
    {
     "name": "stderr",
     "output_type": "stream",
     "text": [
      "100%|██████████| 5/5 [00:10<00:00,  2.20s/it]\n"
     ]
    },
    {
     "name": "stdout",
     "output_type": "stream",
     "text": [
      "Plot output 7 saved to: /work/users/a/g/agdylan/icon_registration_project/Diffusion_experiments/plot_output_7.png\n"
     ]
    },
    {
     "name": "stderr",
     "output_type": "stream",
     "text": [
      " 80%|████████  | 4/5 [00:08<00:02,  2.23s/it]"
     ]
    }
   ],
   "source": [
    "# Define the GradICON regularizer\n",
    "\n",
    "# Initialize list to store vector fields for GradICON regularizer\n",
    "vector_fields = []\n",
    "\n",
    "# Assuming your directory path where you want to save the vector fields and plot outputs\n",
    "output_directory = \"/work/users/a/g/agdylan/icon_registration_project/Diffusion_experiments\"\n",
    "\n",
    "\n",
    "\n",
    "# Train 10 registration networks for GradICON regularizer\n",
    "for i in range(10):\n",
    "    # Initialize network\n",
    "    net = regularizer[1]\n",
    "\n",
    "    # Initialize identity map for the provided sample batch\n",
    "    net.assign_identity_map(sample_batch.shape)\n",
    "\n",
    "    # Put network in training mode\n",
    "    net.train()\n",
    "\n",
    "    # Move the network parameters to the specified device (GPU or CPU)\n",
    "    device = torch.device(\"cuda\" if torch.cuda.is_available() else \"cpu\")\n",
    "    net.to(device)\n",
    "\n",
    "    optim = torch.optim.Adam(net.parameters(), lr=0.001)\n",
    "\n",
    "    # Train the network using provided dataset for 5 epochs\n",
    "    curves = icon.train_datasets(net, optim, ds, ds, epochs=5)\n",
    "\n",
    "    # Pass both images through the network\n",
    "   \n",
    "\n",
    "    net(image_A, image_B)\n",
    "\n",
    "    # Store vector field tensor\n",
    "    vector_field = net.phi_AB_vectorfield\n",
    "\n",
    "    # Append vector field to list\n",
    "    vector_fields.append(vector_field)\n",
    "\n",
    "    # Plot and save the outputs\n",
    "    plt.figure(figsize=(12, 8))\n",
    "\n",
    "    plt.subplot(2, 2, 1)\n",
    "    show(image_A)\n",
    "    plt.title('Image A')\n",
    "\n",
    "    plt.subplot(2, 2, 2)\n",
    "    show(image_B)\n",
    "    plt.title('Image B')\n",
    "\n",
    "    plt.subplot(2, 2, 3)\n",
    "    show(net.warped_image_A)\n",
    "    plt.contour(torchvision.utils.make_grid(net.phi_AB_vectorfield[:2], nrow=3)[0].cpu().detach())  # Draws vertical grid lines\n",
    "    plt.contour(torchvision.utils.make_grid(net.phi_AB_vectorfield[:2], nrow=3)[1].cpu().detach())  # Draws horizontal grid lines\n",
    "    plt.title('Warped Image A with Vector Field')\n",
    "\n",
    "    plt.subplot(2, 2, 4)\n",
    "    show(net.warped_image_A - image_B)\n",
    "    plt.title('Difference Image (Warped A - B)')\n",
    "\n",
    "    plt.tight_layout()\n",
    "\n",
    "    # Save the plot output to a file\n",
    "    plot_file_path = os.path.join(output_directory, f\"plot_output_{i + 1}.png\")\n",
    "    plt.savefig(plot_file_path)\n",
    "    print(f\"Plot output {i + 1} saved to: {plot_file_path}\")\n",
    "\n",
    "# Save the entire list of vector fields to a single file\n",
    "full_file_path = os.path.join(output_directory, \"vector_fields.pt\")\n",
    "torch.save(vector_fields, full_file_path)\n",
    "print(f\"All vector fields saved to: {full_file_path}\")\n",
    "\n",
    "# Vector field: represent the spatial transformations needed to align one image with another. Magnitude of each vector represents the amount of displacement\n",
    "# applied to the correspponding pixel \n",
    "\n",
    "# Interpreatation: Each element of the vector field correspond to a specific pixel in the image, indicating how much and which direction the pixel is needed to be transformed\n",
    "\n",
    "# Save images A and B as tensors\n",
    "# torch.save(image_A, 'image_A.pt')\n",
    "# torch.save(image_B, 'image_B.pt')"
   ]
  },
  {
   "cell_type": "code",
   "execution_count": null,
   "id": "cd87eda3-3935-4d3b-b0a3-7c716160ee6d",
   "metadata": {},
   "outputs": [],
   "source": [
    "# Load the list of vector fields from the saved file\n",
    "saved_vector_fields = torch.load(\"/work/users/a/g/agdylan/icon_registration_project/Diffusion_experiments/vector_fields.pt\")\n",
    "\n",
    "# Calculate the mean tensor\n",
    "mean_tensor = torch.mean(torch.stack(saved_vector_fields), dim=0)\n",
    "\n",
    "# Calculate the standard deviation tensor\n",
    "std_tensor = torch.std(torch.stack(saved_vector_fields), dim=0)\n",
    "\n",
    "# Now you can use mean_tensor and std_tensor for further analysis or processing\n",
    "print(\"Mean Tensor:\")\n",
    "print(mean_tensor)\n",
    "\n",
    "print(\"\\nStandard Deviation Tensor:\")\n",
    "print(std_tensor)\n",
    "\n",
    "\n",
    "# Mean tensor: each element of the mean tensor represents the average displacement or transformation across the corresponding pixels of the images in the dataset\n",
    "\n",
    "# Standard Deviation Tensor: indicates how much the individual vector fields deviate from the mean tensor at each pixel location. A higher standard deviation implies \n",
    "#greater variability in the alignment pattern across the dataset \n"
   ]
  },
  {
   "cell_type": "code",
   "execution_count": null,
   "id": "6c27b69e-43d3-468d-87a3-5ae66d4648fe",
   "metadata": {},
   "outputs": [],
   "source": [
    "# Save mean tensor to file\n",
    "mean_file_path = \"/work/users/a/g/agdylan/icon_registration_project/Diffusion_experiments/mean_tensor.pt\"\n",
    "torch.save(mean_tensor, mean_file_path)\n",
    "print(f\"Mean tensor saved to: {mean_file_path}\")\n",
    "\n",
    "# Save standard deviation tensor to file\n",
    "std_file_path = \"/work/users/a/g/agdylan/icon_registration_project/Diffusion_experiments/std_tensor.pt\"\n",
    "torch.save(std_tensor, std_file_path)\n",
    "print(f\"Standard deviation tensor saved to: {std_file_path}\")"
   ]
  },
  {
   "cell_type": "code",
   "execution_count": null,
   "id": "bc8be519-120d-4905-b8d6-d79553b7b380",
   "metadata": {},
   "outputs": [],
   "source": [
    "# Load the standard deviation tensor\n",
    "std_tensor = torch.load(\"/work/users/a/g/agdylan/icon_registration_project/Diffusion_experiments/std_tensor.pt\")  # Replace \"/path/to/std_tensor.pt\" with the actual file path\n",
    "\n",
    "std_array = std_tensor.cpu().detach().numpy()\n",
    "\n",
    "# Select a single channel (e.g., channel 0)\n",
    "std_channel = std_array[:, 0]  # Assuming you want to select channel 0\n",
    "\n",
    "# Plot the heatmap\n",
    "plt.figure(figsize=(8, 6))\n",
    "plt.imshow(std_channel[0], cmap='jet', interpolation='nearest')  # Assuming you want to plot the first image in the batch\n",
    "plt.colorbar(label='Standard Deviation')\n",
    "plt.title('Heatmap of Standard Deviation Tensor')\n",
    "plt.xlabel('X Coordinate')\n",
    "plt.ylabel('Y Coordinate')\n",
    "plt.show()"
   ]
  },
  {
   "cell_type": "code",
   "execution_count": null,
   "id": "b8dfce5a-cd49-4691-aa03-29bfe40b5355",
   "metadata": {},
   "outputs": [],
   "source": []
  },
  {
   "cell_type": "code",
   "execution_count": null,
   "id": "6a8a8bea-4f72-47fc-acee-a08f4c166f13",
   "metadata": {},
   "outputs": [],
   "source": []
  },
  {
   "cell_type": "code",
   "execution_count": null,
   "id": "8a3592cc-339f-46ef-8559-ee4528bdbbcd",
   "metadata": {},
   "outputs": [],
   "source": []
  },
  {
   "cell_type": "code",
   "execution_count": null,
   "id": "bfc3b4d8-bf81-44d5-be11-e3902586e1ef",
   "metadata": {},
   "outputs": [],
   "source": []
  },
  {
   "cell_type": "code",
   "execution_count": null,
   "id": "35de3141-d075-4cee-9880-8f0ad77c6790",
   "metadata": {},
   "outputs": [],
   "source": []
  },
  {
   "cell_type": "code",
   "execution_count": null,
   "id": "7d95c94d-2cf2-4714-a128-b6e2d25170f3",
   "metadata": {},
   "outputs": [],
   "source": []
  },
  {
   "cell_type": "code",
   "execution_count": null,
   "id": "7690605b-b04a-4431-a2b5-a32f437dd5b2",
   "metadata": {},
   "outputs": [],
   "source": []
  },
  {
   "cell_type": "code",
   "execution_count": null,
   "id": "b5549d8a-e1ff-455b-97ff-bcc93b73a2f4",
   "metadata": {},
   "outputs": [],
   "source": []
  },
  {
   "cell_type": "code",
   "execution_count": null,
   "id": "dd1983fa-2141-4889-9e9c-d9cf71faf25a",
   "metadata": {},
   "outputs": [],
   "source": []
  },
  {
   "cell_type": "code",
   "execution_count": null,
   "id": "53a11474-6d23-4bc2-97ae-50eff1c04440",
   "metadata": {},
   "outputs": [],
   "source": []
  }
 ],
 "metadata": {
  "kernelspec": {
   "display_name": "Python 3",
   "language": "python",
   "name": "python3"
  },
  "language_info": {
   "codemirror_mode": {
    "name": "ipython",
    "version": 3
   },
   "file_extension": ".py",
   "mimetype": "text/x-python",
   "name": "python",
   "nbconvert_exporter": "python",
   "pygments_lexer": "ipython3",
   "version": "3.9.7"
  }
 },
 "nbformat": 4,
 "nbformat_minor": 5
}
